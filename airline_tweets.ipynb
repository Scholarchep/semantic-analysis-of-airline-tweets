{
 "cells": [
  {
   "cell_type": "markdown",
   "id": "f5d1b231",
   "metadata": {},
   "source": [
    "# SENTIMENT ANALYSIS OF AIRLINE TWEETS"
   ]
  },
  {
   "cell_type": "markdown",
   "id": "e224f19a",
   "metadata": {},
   "source": [
    "# Business Understanding"
   ]
  },
  {
   "cell_type": "markdown",
   "id": "cf9239d6",
   "metadata": {},
   "source": [
    "## Overview\n",
    "In the highly competitive airline industry, leveraging sentiment analysis can provide a competitive edge. By analyzing various sources of customer feedback, such as social media posts, sentiment analysis can determine whether the sentiment of the feedback is positive, negative, or neutral. This can provide valuable insights into customers' opinions and preferences, aid in identifying common complaints, monitor trends in customer feedback, and enable the development of targeted strategies to enhance customer satisfaction and loyalty. Employing sentiment analysis can lead to data-driven decisions, improving overall performance and reputation, and resulting in increased profitability and success."
   ]
  },
  {
   "cell_type": "markdown",
   "id": "f9949f6b",
   "metadata": {},
   "source": [
    "## Business Problem"
   ]
  },
  {
   "cell_type": "markdown",
   "id": "22e512af",
   "metadata": {},
   "source": [
    "The airline industry faces various challenges, including high operational costs, security concerns, environmental impact, and fierce competition. In Kenya, for example, the national carrier Kenya Airways has been struggling financially as a result of some of these challenges. To remain competitive in such a challenging environment, airlines need to find innovative ways to improve their service offerings while keeping operational costs low. One way to achieve this is by leveraging sentiment analysis to better understand customer preferences and improve overall customer satisfaction.<br>\n",
    "Therefore, we aim to use Natural Language Processing (NLP) to provide valuable insights into customer preferences and improve the overall customer experience which will consequently improve the airline's competitiveness."
   ]
  },
  {
   "cell_type": "markdown",
   "id": "ca96cca4",
   "metadata": {},
   "source": [
    "## Objectives"
   ]
  },
  {
   "cell_type": "markdown",
   "id": "46671adb",
   "metadata": {},
   "source": [
    "To build a machine learning model that accurately predicts the sentiment of airline passengers based on their tweets."
   ]
  },
  {
   "cell_type": "markdown",
   "id": "23c19e97",
   "metadata": {},
   "source": [
    "### Specific objectives"
   ]
  },
  {
   "cell_type": "markdown",
   "id": "cf0cca69",
   "metadata": {},
   "source": [
    "1.\tTo use NLP techniques to preprocess and clean the customer feedback dataset to prepare it for sentiment analysis.\n",
    "2.\tTo apply sentiment analysis techniques to categorize the customer feedback into positive, negative, or neutral sentiments.\n",
    "3.\tTo determine the model’s effectiveness in predicting the sentiment of airline passengers based on recall and F1-score metrics.\n",
    "4.\tTo interpret the model results and gain insights into the factors that influence customer satisfaction and dissatisfaction with the airline.\n"
   ]
  },
  {
   "cell_type": "markdown",
   "id": "85b51422",
   "metadata": {},
   "source": [
    "## Success Criteria"
   ]
  },
  {
   "cell_type": "markdown",
   "id": "ff2cce35",
   "metadata": {},
   "source": [
    "A model will be considered a success when it is able to correctly identify all tweets with positive, negative or neutral sentiment. For an airline, missing a tweet that expresses negative sentiment could lead to the airline missing an opportunity to address the issue and potentially lose a customer. Therefore, high recall is crucial in order to capture all relevant tweets expressing positive, negative or neutral sentiment, and take appropriate actions accordingly.<br>\n",
    "However, a model with high recall may also classify a large number of irrelevant tweets as positive, which would lower its precision and potentially mislead the interpretation of the sentiment analysis results. F1 score will be used as a secondary metric, to provide a balance between recall and precision."
   ]
  }
 ],
 "metadata": {
  "kernelspec": {
   "display_name": "Python 3 (ipykernel)",
   "language": "python",
   "name": "python3"
  },
  "language_info": {
   "codemirror_mode": {
    "name": "ipython",
    "version": 3
   },
   "file_extension": ".py",
   "mimetype": "text/x-python",
   "name": "python",
   "nbconvert_exporter": "python",
   "pygments_lexer": "ipython3",
   "version": "3.9.13"
  }
 },
 "nbformat": 4,
 "nbformat_minor": 5
}
